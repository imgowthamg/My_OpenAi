{
 "cells": [
  {
   "cell_type": "code",
   "execution_count": 9,
   "id": "3b580b67",
   "metadata": {},
   "outputs": [
    {
     "name": "stdout",
     "output_type": "stream",
     "text": [
      "1. Earn a Bachelor's Degree: The first step to becoming a data engineer is to earn a bachelor's degree in computer science, math, engineering, or a related field. A degree in something like statistics, economics, or information technology may also be beneficial.\n",
      "\n",
      "2. Gain Hands-on Experience: The best way to gain experience with data engineering is by getting hands-on experience with programming languages such as SQL, Python, and R, as well as databases like Oracle,\n"
     ]
    }
   ],
   "source": [
    "import openai\n",
    "\n",
    "# Set up authentication by providing your API key\n",
    "openai.api_key = 'my kyeee'\n",
    "\n",
    "# Define the prompt for text generation\n",
    "prompt = \"How to become a Data Engineer\"\n",
    "\n",
    "# Generate text using GPT-3\n",
    "response = openai.Completion.create(\n",
    "    engine='text-davinci-003',\n",
    "    prompt=prompt,\n",
    "    max_tokens=100\n",
    ")\n",
    "\n",
    "# Extract the generated text from the API response\n",
    "generated_text = response.choices[0].text.strip()\n",
    "\n",
    "# Print the generated text\n",
    "print(generated_text)\n"
   ]
  },
  {
   "cell_type": "code",
   "execution_count": null,
   "id": "00ea52e8",
   "metadata": {},
   "outputs": [],
   "source": []
  }
 ],
 "metadata": {
  "kernelspec": {
   "display_name": "Python 3 (ipykernel)",
   "language": "python",
   "name": "python3"
  },
  "language_info": {
   "codemirror_mode": {
    "name": "ipython",
    "version": 3
   },
   "file_extension": ".py",
   "mimetype": "text/x-python",
   "name": "python",
   "nbconvert_exporter": "python",
   "pygments_lexer": "ipython3",
   "version": "3.9.13"
  }
 },
 "nbformat": 4,
 "nbformat_minor": 5
}
